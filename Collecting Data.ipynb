{
 "cells": [
  {
   "cell_type": "code",
   "execution_count": 1,
   "id": "1265abf0",
   "metadata": {},
   "outputs": [],
   "source": [
    "import tweepy\n",
    "import csv\n",
    "import pandas as pd"
   ]
  },
  {
   "cell_type": "markdown",
   "id": "7502cc2f",
   "metadata": {},
   "source": [
    "## Authentication\n",
    "Consumer_Key, Consumer_Secret, Access_Token, Access_Token_Secret dapat kita temukan<br> pada account tweeter yang sudah terdaftar sebagai developer.\n"
   ]
  },
  {
   "cell_type": "code",
   "execution_count": 2,
   "id": "cfdf1c53",
   "metadata": {},
   "outputs": [],
   "source": [
    "consumer_key = \"consumer_key\"\n",
    "consumer_secret = \"consumer_secret\"\n",
    "access_token = \"access_token\"\n",
    "access_token_secret = \"access_token_secret\""
   ]
  },
  {
   "cell_type": "markdown",
   "id": "a8af21a0",
   "metadata": {},
   "source": [
    "## Make Connection\n",
    "Buat koneksi pada akun developer kita untuk kita lakukan teks mining"
   ]
  },
  {
   "cell_type": "code",
   "execution_count": 3,
   "id": "4c5e9dac",
   "metadata": {},
   "outputs": [],
   "source": [
    "auth = tweepy.OAuthHandler(consumer_key, consumer_secret)\n",
    "auth.set_access_token(access_token, access_token_secret)\n",
    "\n",
    "# cek koneksi\n",
    "api = tweepy.API(auth)"
   ]
  },
  {
   "cell_type": "markdown",
   "id": "f09508de",
   "metadata": {},
   "source": [
    "## Save File"
   ]
  },
  {
   "cell_type": "code",
   "execution_count": 4,
   "id": "8338b2fc",
   "metadata": {},
   "outputs": [
    {
     "data": {
      "text/plain": [
       "6"
      ]
     },
     "execution_count": 4,
     "metadata": {},
     "output_type": "execute_result"
    }
   ],
   "source": [
    "csvFile = open('datasets/latihan-teks-preprocessing.csv', 'w', encoding='utf-8')\n",
    "saveCSV = csv.writer(csvFile)\n",
    "\n",
    "# menambahkan attribute\n",
    "atribut = ['teks']\n",
    "saveCSV.writerow(atribut)"
   ]
  },
  {
   "cell_type": "markdown",
   "id": "357562dd",
   "metadata": {},
   "source": [
    "## Text Mining\n",
    "disini saya menggunakan tags <b>The Walking Dead</b> <br>salah satu film favorite saya yang nantinya hasil mining tsb, kita buat sentimen analysis"
   ]
  },
  {
   "cell_type": "code",
   "execution_count": 5,
   "id": "d0627181",
   "metadata": {},
   "outputs": [],
   "source": [
    "search_tweet = 'The Walking Dead'\n",
    "date_since = '2022-01-05'\n",
    "tweets = tweepy.Cursor(api.search_tweets, q=search_tweet, lang='en', since=date_since).items(100)"
   ]
  },
  {
   "cell_type": "code",
   "execution_count": 6,
   "id": "d61a306f",
   "metadata": {},
   "outputs": [
    {
     "name": "stderr",
     "output_type": "stream",
     "text": [
      "Unexpected parameter: since\n",
      "Unexpected parameter: since\n",
      "Unexpected parameter: since\n",
      "Unexpected parameter: since\n",
      "Unexpected parameter: since\n",
      "Unexpected parameter: since\n",
      "Unexpected parameter: since\n"
     ]
    }
   ],
   "source": [
    "for tweet in tweets:\n",
    "    saveCSV.writerow([tweet.text])\n",
    "\n",
    "saveCSV = csv.writer(csvFile)\n",
    "csvFile.close()"
   ]
  },
  {
   "cell_type": "code",
   "execution_count": null,
   "id": "a2e87695",
   "metadata": {},
   "outputs": [],
   "source": []
  }
 ],
 "metadata": {
  "kernelspec": {
   "display_name": "Python 3 (ipykernel)",
   "language": "python",
   "name": "python3"
  },
  "language_info": {
   "codemirror_mode": {
    "name": "ipython",
    "version": 3
   },
   "file_extension": ".py",
   "mimetype": "text/x-python",
   "name": "python",
   "nbconvert_exporter": "python",
   "pygments_lexer": "ipython3",
   "version": "3.9.7"
  }
 },
 "nbformat": 4,
 "nbformat_minor": 5
}
