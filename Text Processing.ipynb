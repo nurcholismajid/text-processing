{
 "cells": [
  {
   "cell_type": "code",
   "execution_count": 1,
   "id": "12adcf1f",
   "metadata": {},
   "outputs": [
    {
     "name": "stderr",
     "output_type": "stream",
     "text": [
      "[nltk_data] Downloading package stopwords to\n",
      "[nltk_data]     C:\\Users\\nomjn\\AppData\\Roaming\\nltk_data...\n",
      "[nltk_data]   Package stopwords is already up-to-date!\n"
     ]
    },
    {
     "data": {
      "text/plain": [
       "True"
      ]
     },
     "execution_count": 1,
     "metadata": {},
     "output_type": "execute_result"
    }
   ],
   "source": [
    "import pandas as pd\n",
    "import nltk\n",
    "from nltk.corpus import stopwords\n",
    "from nltk.stem import PorterStemmer\n",
    "\n",
    "nltk.download('stopwords')"
   ]
  },
  {
   "cell_type": "markdown",
   "id": "6dd5f62b",
   "metadata": {},
   "source": [
    "## Load Data\n",
    "Panggil data jadikan sebagai dataframe supaya lebih mudah ketika di proses"
   ]
  },
  {
   "cell_type": "code",
   "execution_count": 12,
   "id": "1ae79f9c",
   "metadata": {},
   "outputs": [],
   "source": [
    "df = pd.read_csv('./datasets/latihan-teks-preprocessing.csv')"
   ]
  },
  {
   "cell_type": "code",
   "execution_count": 13,
   "id": "4a3734b3",
   "metadata": {},
   "outputs": [
    {
     "data": {
      "text/html": [
       "<div>\n",
       "<style scoped>\n",
       "    .dataframe tbody tr th:only-of-type {\n",
       "        vertical-align: middle;\n",
       "    }\n",
       "\n",
       "    .dataframe tbody tr th {\n",
       "        vertical-align: top;\n",
       "    }\n",
       "\n",
       "    .dataframe thead th {\n",
       "        text-align: right;\n",
       "    }\n",
       "</style>\n",
       "<table border=\"1\" class=\"dataframe\">\n",
       "  <thead>\n",
       "    <tr style=\"text-align: right;\">\n",
       "      <th></th>\n",
       "      <th>teks</th>\n",
       "    </tr>\n",
       "  </thead>\n",
       "  <tbody>\n",
       "    <tr>\n",
       "      <th>0</th>\n",
       "      <td>RT @last_jones: Just saw 4 children killed in ...</td>\n",
       "    </tr>\n",
       "    <tr>\n",
       "      <th>1</th>\n",
       "      <td>@productortano The Walking dead #CaballeroDeDia</td>\n",
       "    </tr>\n",
       "    <tr>\n",
       "      <th>2</th>\n",
       "      <td>RT @DavidHundeyin: Eastern Europe is NOT LIKE ...</td>\n",
       "    </tr>\n",
       "    <tr>\n",
       "      <th>3</th>\n",
       "      <td>Tried to add their one iconic symbol from thei...</td>\n",
       "    </tr>\n",
       "    <tr>\n",
       "      <th>4</th>\n",
       "      <td>watching the finale season of ‘the walking dea...</td>\n",
       "    </tr>\n",
       "  </tbody>\n",
       "</table>\n",
       "</div>"
      ],
      "text/plain": [
       "                                                teks\n",
       "0  RT @last_jones: Just saw 4 children killed in ...\n",
       "1    @productortano The Walking dead #CaballeroDeDia\n",
       "2  RT @DavidHundeyin: Eastern Europe is NOT LIKE ...\n",
       "3  Tried to add their one iconic symbol from thei...\n",
       "4  watching the finale season of ‘the walking dea..."
      ]
     },
     "execution_count": 13,
     "metadata": {},
     "output_type": "execute_result"
    }
   ],
   "source": [
    "df.head()"
   ]
  },
  {
   "cell_type": "markdown",
   "id": "922f08cd",
   "metadata": {},
   "source": [
    "## Case Folding\n",
    "Ubah teks menjadi huruf kecil semua"
   ]
  },
  {
   "cell_type": "code",
   "execution_count": 14,
   "id": "38e9c5fa",
   "metadata": {},
   "outputs": [],
   "source": [
    "# Case Folding\n",
    "df['case_folded'] = df['teks'].str.lower()"
   ]
  },
  {
   "cell_type": "code",
   "execution_count": 15,
   "id": "7bbbc941",
   "metadata": {},
   "outputs": [
    {
     "data": {
      "text/html": [
       "<div>\n",
       "<style scoped>\n",
       "    .dataframe tbody tr th:only-of-type {\n",
       "        vertical-align: middle;\n",
       "    }\n",
       "\n",
       "    .dataframe tbody tr th {\n",
       "        vertical-align: top;\n",
       "    }\n",
       "\n",
       "    .dataframe thead th {\n",
       "        text-align: right;\n",
       "    }\n",
       "</style>\n",
       "<table border=\"1\" class=\"dataframe\">\n",
       "  <thead>\n",
       "    <tr style=\"text-align: right;\">\n",
       "      <th></th>\n",
       "      <th>teks</th>\n",
       "      <th>case_folded</th>\n",
       "    </tr>\n",
       "  </thead>\n",
       "  <tbody>\n",
       "    <tr>\n",
       "      <th>0</th>\n",
       "      <td>RT @last_jones: Just saw 4 children killed in ...</td>\n",
       "      <td>rt @last_jones: just saw 4 children killed in ...</td>\n",
       "    </tr>\n",
       "    <tr>\n",
       "      <th>1</th>\n",
       "      <td>@productortano The Walking dead #CaballeroDeDia</td>\n",
       "      <td>@productortano the walking dead #caballerodedia</td>\n",
       "    </tr>\n",
       "    <tr>\n",
       "      <th>2</th>\n",
       "      <td>RT @DavidHundeyin: Eastern Europe is NOT LIKE ...</td>\n",
       "      <td>rt @davidhundeyin: eastern europe is not like ...</td>\n",
       "    </tr>\n",
       "    <tr>\n",
       "      <th>3</th>\n",
       "      <td>Tried to add their one iconic symbol from thei...</td>\n",
       "      <td>tried to add their one iconic symbol from thei...</td>\n",
       "    </tr>\n",
       "    <tr>\n",
       "      <th>4</th>\n",
       "      <td>watching the finale season of ‘the walking dea...</td>\n",
       "      <td>watching the finale season of ‘the walking dea...</td>\n",
       "    </tr>\n",
       "  </tbody>\n",
       "</table>\n",
       "</div>"
      ],
      "text/plain": [
       "                                                teks  \\\n",
       "0  RT @last_jones: Just saw 4 children killed in ...   \n",
       "1    @productortano The Walking dead #CaballeroDeDia   \n",
       "2  RT @DavidHundeyin: Eastern Europe is NOT LIKE ...   \n",
       "3  Tried to add their one iconic symbol from thei...   \n",
       "4  watching the finale season of ‘the walking dea...   \n",
       "\n",
       "                                         case_folded  \n",
       "0  rt @last_jones: just saw 4 children killed in ...  \n",
       "1    @productortano the walking dead #caballerodedia  \n",
       "2  rt @davidhundeyin: eastern europe is not like ...  \n",
       "3  tried to add their one iconic symbol from thei...  \n",
       "4  watching the finale season of ‘the walking dea...  "
      ]
     },
     "execution_count": 15,
     "metadata": {},
     "output_type": "execute_result"
    }
   ],
   "source": [
    "df.head()"
   ]
  },
  {
   "cell_type": "markdown",
   "id": "ececeb1a",
   "metadata": {},
   "source": [
    "## Remove Stopword\n",
    "Hapus kalimat yang tidak memiliki hubungan dengan subyek utama yang dimaksud"
   ]
  },
  {
   "cell_type": "code",
   "execution_count": 20,
   "id": "09c903ac",
   "metadata": {},
   "outputs": [],
   "source": [
    "additional = ['rt', 'rts', 'retweet']\n",
    "words = set().union(stopwords.words('english'), additional)"
   ]
  },
  {
   "cell_type": "code",
   "execution_count": 21,
   "id": "c28c3a28",
   "metadata": {},
   "outputs": [
    {
     "name": "stdout",
     "output_type": "stream",
     "text": [
      "{'ain', \"you'd\", 'these', 'am', 'can', 'y', 'have', 's', 'theirs', 'she', 'ours', 'mightn', 'only', 'd', 'from', 'an', \"couldn't\", 'needn', 'shouldn', 'in', 'has', \"wouldn't\", 'the', \"hasn't\", 'doing', \"shouldn't\", \"aren't\", \"weren't\", 'hers', 'who', 'are', 'and', 'so', 'o', 'should', 'won', \"you've\", 'its', 'those', 'of', 'their', \"should've\", 'our', 'through', 'out', 'at', 'm', 'same', 'rt', 'your', 'not', 'ma', 'to', 'but', 'above', 'hasn', 'below', 'after', 'over', \"didn't\", 'this', \"hadn't\", 'until', 'll', 'had', 'wouldn', 'isn', \"that'll\", 'having', 'then', 'itself', 'how', 'him', 'wasn', 'which', 'haven', 'whom', 'against', \"isn't\", 'why', 'my', 'they', 'retweet', \"mustn't\", 'by', 'under', 'very', \"haven't\", 'once', 'with', \"she's\", 'were', 'yourself', 'during', 'aren', 'myself', \"doesn't\", \"you're\", 'nor', 'before', 'is', 'any', 'as', 'just', 'themselves', 'too', 'do', 'what', 'again', 'on', 't', 'all', 'ourselves', 'yourselves', 'where', 'if', 'now', 'did', 'here', 'them', 'we', 'such', 'own', 'few', 'further', 'couldn', 'does', 'into', 'hadn', 'weren', 'rts', 'because', 'other', 'most', 'more', 'while', 'up', 'that', 'each', 'his', 'being', 'himself', 'shan', \"won't\", \"you'll\", 'her', 'don', 'will', \"mightn't\", 'me', 'or', 'about', 'off', 'for', 'be', 'yours', 'you', \"it's\", \"wasn't\", 'between', 've', 'when', 'he', 'been', 'down', 'than', 'a', 'there', \"needn't\", 'it', 'both', 'doesn', \"don't\", \"shan't\", 're', 'mustn', 'herself', 'i', 'was', 'no', 'some', 'didn'}\n"
     ]
    }
   ],
   "source": [
    "print(words)"
   ]
  },
  {
   "cell_type": "markdown",
   "id": "7ff88a07",
   "metadata": {},
   "source": [
    "## Text Filtering\n",
    "Menghapus simbol, link, yang tidak ada hubungannya dengan subyek yang dimaksud"
   ]
  },
  {
   "cell_type": "code",
   "execution_count": 23,
   "id": "0c5192e5",
   "metadata": {},
   "outputs": [
    {
     "name": "stderr",
     "output_type": "stream",
     "text": [
      "C:\\Users\\nomjn\\AppData\\Local\\Temp/ipykernel_3816/496888592.py:1: FutureWarning: The default value of regex will change from True to False in a future version.\n",
      "  df['filtered_text'] = df['teks'].str.replace('(@[a-z0-9]+)\\w+',' ')\\\n"
     ]
    }
   ],
   "source": [
    "df['filtered_text'] = df['teks'].str.replace('(@[a-z0-9]+)\\w+',' ')\\\n",
    "          .str.replace('(http\\S+)', ' ')\\\n",
    "          .str.replace('([^0-9a-z \\t])',' ')\\\n",
    "          .str.replace(' +',' ')\\\n",
    "          .apply(lambda x: [i for i in x.split() if not i in words])"
   ]
  },
  {
   "cell_type": "code",
   "execution_count": 24,
   "id": "90b1db7f",
   "metadata": {},
   "outputs": [
    {
     "data": {
      "text/html": [
       "<div>\n",
       "<style scoped>\n",
       "    .dataframe tbody tr th:only-of-type {\n",
       "        vertical-align: middle;\n",
       "    }\n",
       "\n",
       "    .dataframe tbody tr th {\n",
       "        vertical-align: top;\n",
       "    }\n",
       "\n",
       "    .dataframe thead th {\n",
       "        text-align: right;\n",
       "    }\n",
       "</style>\n",
       "<table border=\"1\" class=\"dataframe\">\n",
       "  <thead>\n",
       "    <tr style=\"text-align: right;\">\n",
       "      <th></th>\n",
       "      <th>teks</th>\n",
       "      <th>case_folded</th>\n",
       "      <th>filtered_text</th>\n",
       "    </tr>\n",
       "  </thead>\n",
       "  <tbody>\n",
       "    <tr>\n",
       "      <th>0</th>\n",
       "      <td>RT @last_jones: Just saw 4 children killed in ...</td>\n",
       "      <td>rt @last_jones: just saw 4 children killed in ...</td>\n",
       "      <td>[ust, saw, 4, children, killed, kraine, shelli...</td>\n",
       "    </tr>\n",
       "    <tr>\n",
       "      <th>1</th>\n",
       "      <td>@productortano The Walking dead #CaballeroDeDia</td>\n",
       "      <td>@productortano the walking dead #caballerodedia</td>\n",
       "      <td>[alking, dead, aballero, e, ia]</td>\n",
       "    </tr>\n",
       "    <tr>\n",
       "      <th>2</th>\n",
       "      <td>RT @DavidHundeyin: Eastern Europe is NOT LIKE ...</td>\n",
       "      <td>rt @davidhundeyin: eastern europe is not like ...</td>\n",
       "      <td>[avid, undeyin, astern, urope, imagine, look, ...</td>\n",
       "    </tr>\n",
       "    <tr>\n",
       "      <th>3</th>\n",
       "      <td>Tried to add their one iconic symbol from thei...</td>\n",
       "      <td>tried to add their one iconic symbol from thei...</td>\n",
       "      <td>[ried, add, one, iconic, symbol, movie, series...</td>\n",
       "    </tr>\n",
       "    <tr>\n",
       "      <th>4</th>\n",
       "      <td>watching the finale season of ‘the walking dea...</td>\n",
       "      <td>watching the finale season of ‘the walking dea...</td>\n",
       "      <td>[watching, finale, season, walking, dead, laur...</td>\n",
       "    </tr>\n",
       "  </tbody>\n",
       "</table>\n",
       "</div>"
      ],
      "text/plain": [
       "                                                teks  \\\n",
       "0  RT @last_jones: Just saw 4 children killed in ...   \n",
       "1    @productortano The Walking dead #CaballeroDeDia   \n",
       "2  RT @DavidHundeyin: Eastern Europe is NOT LIKE ...   \n",
       "3  Tried to add their one iconic symbol from thei...   \n",
       "4  watching the finale season of ‘the walking dea...   \n",
       "\n",
       "                                         case_folded  \\\n",
       "0  rt @last_jones: just saw 4 children killed in ...   \n",
       "1    @productortano the walking dead #caballerodedia   \n",
       "2  rt @davidhundeyin: eastern europe is not like ...   \n",
       "3  tried to add their one iconic symbol from thei...   \n",
       "4  watching the finale season of ‘the walking dea...   \n",
       "\n",
       "                                       filtered_text  \n",
       "0  [ust, saw, 4, children, killed, kraine, shelli...  \n",
       "1                    [alking, dead, aballero, e, ia]  \n",
       "2  [avid, undeyin, astern, urope, imagine, look, ...  \n",
       "3  [ried, add, one, iconic, symbol, movie, series...  \n",
       "4  [watching, finale, season, walking, dead, laur...  "
      ]
     },
     "execution_count": 24,
     "metadata": {},
     "output_type": "execute_result"
    }
   ],
   "source": [
    "df.head()"
   ]
  },
  {
   "cell_type": "markdown",
   "id": "4ef63088",
   "metadata": {},
   "source": [
    "## Stemming\n",
    "Mencari akar kata, misal walking menjadi walk"
   ]
  },
  {
   "cell_type": "code",
   "execution_count": 25,
   "id": "15f2e2d7",
   "metadata": {},
   "outputs": [
    {
     "data": {
      "text/plain": [
       "0    [ust, saw, 4, children, kill, krain, shell, us...\n",
       "1                         [alk, dead, aballero, e, ia]\n",
       "2    [avid, undeyin, astern, urop, imagin, look, si...\n",
       "3    [rie, add, one, icon, symbol, movi, seri, pict...\n",
       "4    [watch, final, season, walk, dead, lauren, cohan]\n",
       "Name: stemmed, dtype: object"
      ]
     },
     "execution_count": 25,
     "metadata": {},
     "output_type": "execute_result"
    }
   ],
   "source": [
    "ps = PorterStemmer()\n",
    "df['stemmed'] = df['filtered_text'].apply(lambda x: [ps.stem(i) for i in x if i != ''])\n",
    "\n",
    "df['stemmed'].head()"
   ]
  },
  {
   "cell_type": "code",
   "execution_count": 26,
   "id": "d862f8fd",
   "metadata": {},
   "outputs": [
    {
     "data": {
      "text/html": [
       "<div>\n",
       "<style scoped>\n",
       "    .dataframe tbody tr th:only-of-type {\n",
       "        vertical-align: middle;\n",
       "    }\n",
       "\n",
       "    .dataframe tbody tr th {\n",
       "        vertical-align: top;\n",
       "    }\n",
       "\n",
       "    .dataframe thead th {\n",
       "        text-align: right;\n",
       "    }\n",
       "</style>\n",
       "<table border=\"1\" class=\"dataframe\">\n",
       "  <thead>\n",
       "    <tr style=\"text-align: right;\">\n",
       "      <th></th>\n",
       "      <th>teks</th>\n",
       "      <th>case_folded</th>\n",
       "      <th>filtered_text</th>\n",
       "      <th>stemmed</th>\n",
       "    </tr>\n",
       "  </thead>\n",
       "  <tbody>\n",
       "    <tr>\n",
       "      <th>0</th>\n",
       "      <td>RT @last_jones: Just saw 4 children killed in ...</td>\n",
       "      <td>rt @last_jones: just saw 4 children killed in ...</td>\n",
       "      <td>[ust, saw, 4, children, killed, kraine, shelli...</td>\n",
       "      <td>[ust, saw, 4, children, kill, krain, shell, us...</td>\n",
       "    </tr>\n",
       "    <tr>\n",
       "      <th>1</th>\n",
       "      <td>@productortano The Walking dead #CaballeroDeDia</td>\n",
       "      <td>@productortano the walking dead #caballerodedia</td>\n",
       "      <td>[alking, dead, aballero, e, ia]</td>\n",
       "      <td>[alk, dead, aballero, e, ia]</td>\n",
       "    </tr>\n",
       "    <tr>\n",
       "      <th>2</th>\n",
       "      <td>RT @DavidHundeyin: Eastern Europe is NOT LIKE ...</td>\n",
       "      <td>rt @davidhundeyin: eastern europe is not like ...</td>\n",
       "      <td>[avid, undeyin, astern, urope, imagine, look, ...</td>\n",
       "      <td>[avid, undeyin, astern, urop, imagin, look, si...</td>\n",
       "    </tr>\n",
       "    <tr>\n",
       "      <th>3</th>\n",
       "      <td>Tried to add their one iconic symbol from thei...</td>\n",
       "      <td>tried to add their one iconic symbol from thei...</td>\n",
       "      <td>[ried, add, one, iconic, symbol, movie, series...</td>\n",
       "      <td>[rie, add, one, icon, symbol, movi, seri, pict...</td>\n",
       "    </tr>\n",
       "    <tr>\n",
       "      <th>4</th>\n",
       "      <td>watching the finale season of ‘the walking dea...</td>\n",
       "      <td>watching the finale season of ‘the walking dea...</td>\n",
       "      <td>[watching, finale, season, walking, dead, laur...</td>\n",
       "      <td>[watch, final, season, walk, dead, lauren, cohan]</td>\n",
       "    </tr>\n",
       "  </tbody>\n",
       "</table>\n",
       "</div>"
      ],
      "text/plain": [
       "                                                teks  \\\n",
       "0  RT @last_jones: Just saw 4 children killed in ...   \n",
       "1    @productortano The Walking dead #CaballeroDeDia   \n",
       "2  RT @DavidHundeyin: Eastern Europe is NOT LIKE ...   \n",
       "3  Tried to add their one iconic symbol from thei...   \n",
       "4  watching the finale season of ‘the walking dea...   \n",
       "\n",
       "                                         case_folded  \\\n",
       "0  rt @last_jones: just saw 4 children killed in ...   \n",
       "1    @productortano the walking dead #caballerodedia   \n",
       "2  rt @davidhundeyin: eastern europe is not like ...   \n",
       "3  tried to add their one iconic symbol from thei...   \n",
       "4  watching the finale season of ‘the walking dea...   \n",
       "\n",
       "                                       filtered_text  \\\n",
       "0  [ust, saw, 4, children, killed, kraine, shelli...   \n",
       "1                    [alking, dead, aballero, e, ia]   \n",
       "2  [avid, undeyin, astern, urope, imagine, look, ...   \n",
       "3  [ried, add, one, iconic, symbol, movie, series...   \n",
       "4  [watching, finale, season, walking, dead, laur...   \n",
       "\n",
       "                                             stemmed  \n",
       "0  [ust, saw, 4, children, kill, krain, shell, us...  \n",
       "1                       [alk, dead, aballero, e, ia]  \n",
       "2  [avid, undeyin, astern, urop, imagin, look, si...  \n",
       "3  [rie, add, one, icon, symbol, movi, seri, pict...  \n",
       "4  [watch, final, season, walk, dead, lauren, cohan]  "
      ]
     },
     "execution_count": 26,
     "metadata": {},
     "output_type": "execute_result"
    }
   ],
   "source": [
    "df.head()"
   ]
  },
  {
   "cell_type": "code",
   "execution_count": null,
   "id": "be666b45",
   "metadata": {},
   "outputs": [],
   "source": []
  }
 ],
 "metadata": {
  "kernelspec": {
   "display_name": "Python 3 (ipykernel)",
   "language": "python",
   "name": "python3"
  },
  "language_info": {
   "codemirror_mode": {
    "name": "ipython",
    "version": 3
   },
   "file_extension": ".py",
   "mimetype": "text/x-python",
   "name": "python",
   "nbconvert_exporter": "python",
   "pygments_lexer": "ipython3",
   "version": "3.9.7"
  }
 },
 "nbformat": 4,
 "nbformat_minor": 5
}
